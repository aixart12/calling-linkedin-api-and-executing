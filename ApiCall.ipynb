{
 "cells": [
  {
   "cell_type": "code",
   "execution_count": 8,
   "id": "61acf70e-abcf-480c-98c0-f2de4ef7c7e9",
   "metadata": {},
   "outputs": [],
   "source": [
    "#Task: Calling and API and Executeing"
   ]
  },
  {
   "cell_type": "code",
   "execution_count": 3,
   "id": "3eb4d4cb-a0d1-4261-85d1-ab068ccf38dd",
   "metadata": {},
   "outputs": [
    {
     "name": "stdout",
     "output_type": "stream",
     "text": [
      "https://www.linkedin.com/uas/login?session_redirect=%2Foauth%2Fv2%2Flogin-success%3Fapp_id%3D123281986%26auth_type%3DAC%26flow%3D%257B%2522authorizationType%2522%253A%2522OAUTH2_AUTHORIZATION_CODE%2522%252C%2522redirectUri%2522%253A%2522https%253A%252F%252Fexample.com%252Fauth%252Flinkedin%252Fcallback%2522%252C%2522currentStage%2522%253A%2522LOGIN_SUCCESS%2522%252C%2522currentSubStage%2522%253A0%252C%2522authFlowName%2522%253A%2522generic-permission-list%2522%252C%2522appId%2522%253A123281986%252C%2522scope%2522%253A%2522r_liteprofile%2522%252C%2522creationTime%2522%253A1629186527458%252C%2522state%2522%253A%2522bjdkaasowbbzfxmajcgcuyfo%2522%257D&fromSignIn=1&trk=oauth&cancel_redirect=%2Foauth%2Fv2%2Flogin-cancel%3Fapp_id%3D123281986%26auth_type%3DAC%26flow%3D%257B%2522authorizationType%2522%253A%2522OAUTH2_AUTHORIZATION_CODE%2522%252C%2522redirectUri%2522%253A%2522https%253A%252F%252Fexample.com%252Fauth%252Flinkedin%252Fcallback%2522%252C%2522currentStage%2522%253A%2522LOGIN_SUCCESS%2522%252C%2522currentSubStage%2522%253A0%252C%2522authFlowName%2522%253A%2522generic-permission-list%2522%252C%2522appId%2522%253A123281986%252C%2522scope%2522%253A%2522r_liteprofile%2522%252C%2522creationTime%2522%253A1629186527458%252C%2522state%2522%253A%2522bjdkaasowbbzfxmajcgcuyfo%2522%257D\n"
     ]
    }
   ],
   "source": [
    "import string\n",
    "import random\n",
    "import requests\n",
    "\n",
    "CLIENT_ID    = '86he05m8zj6zj9'\n",
    "CLIENT_SECRET = 'ZDouBWua4WgzdxHE'\n",
    "REDIRECT_URI = 'https://example.com/auth/linkedin/callback'\n",
    "\n",
    "# Generating a random string to protect against cross-site request forgery\n",
    "letters = string.ascii_lowercase\n",
    "CSRF_TOKEN = ''.join(random.choice(letters) for i in range(24))\n",
    "\n",
    "\n",
    "# Request authentication URL\n",
    "auth_params = {'response_type': 'code',\n",
    "               'client_id': CLIENT_ID,\n",
    "               'redirect_uri': REDIRECT_URI,\n",
    "               'state': CSRF_TOKEN,\n",
    "               'scope': 'r_liteprofile'}\n",
    "\n",
    "html = requests.get(\"https://www.linkedin.com/oauth/v2/authorization\",params = auth_params)\n",
    "print(html.url)\n"
   ]
  },
  {
   "cell_type": "code",
   "execution_count": 4,
   "id": "fecd690b-d27c-46af-83ab-74e8e7b73d81",
   "metadata": {},
   "outputs": [],
   "source": [
    "# auth_code from above link\n",
    "AUTH_CODE='AQS4wqubDz-fB_R_2pdz-pDf5PYKykUfbiq6O3Ix1RvJGU2SrKSG-rbkJ7vQLOOFkgJEyX-IGPQlTnpZP7oBSIN0Rv6-4WlmsK2XQeUNc8r06fqKHPH4mZc9eoLKQBJ0cdJJnxNsR-03OdHVldHFeWf6_BYDzyb6g3ypzBUVWyqpnuN9AGb5UVHw4i8XroOGNvx5RA6rfyM2P-mHnt0'"
   ]
  },
  {
   "cell_type": "code",
   "execution_count": 5,
   "id": "75f57b1c-415e-4b07-97d5-ef32342b108f",
   "metadata": {},
   "outputs": [
    {
     "data": {
      "text/plain": [
       "'curl -d \"grant_type=authorization_code&code=AQT-xLajHOU5h2-uTgEBQfqUUTTXbEhT0fWW2v62gPfXnHY3Bmzh66IUc2x-71xnSaHj7_-RdKsVzQhCz4AXVw0k9JiaNpnj9IEIWEjG5ADLGkk9d8V83SM0FjsTC_hs9NNcvFPDt_xX42WQrGHQphhY9mfXQLS6SW5YuBvJ6auBSnlHTJrr48s1VDqat0MHF2CXQQLGoD774HGkbZg&redirect_uri=https://example.com/auth/linkedin/callback&client_id=86he05m8zj6zj9&client_secret=ZDouBWua4WgzdxHE\" -H \"application/x-www-form-urlencoded\" -X POST \"www.linkedin.com/oauth/v2/accessToken\"'"
      ]
     },
     "execution_count": 5,
     "metadata": {},
     "output_type": "execute_result"
    }
   ],
   "source": [
    "'''curl -d \"grant_type=authorization_code&code=AQT-xLajHOU5h2-uTgEBQfqUUTTXbEhT0fWW2v62gPfXnHY3Bmzh66IUc2x-71xnSaHj7_-RdKsVzQhCz4AXVw0k9JiaNpnj9IEIWEjG5ADLGkk9d8V83SM0FjsTC_hs9NNcvFPDt_xX42WQrGHQphhY9mfXQLS6SW5YuBvJ6auBSnlHTJrr48s1VDqat0MHF2CXQQLGoD774HGkbZg&redirect_uri=https://example.com/auth/linkedin/callback&client_id=86he05m8zj6zj9&client_secret=ZDouBWua4WgzdxHE\" -H \"application/x-www-form-urlencoded\" -X POST \"www.linkedin.com/oauth/v2/accessToken\"'''"
   ]
  },
  {
   "cell_type": "code",
   "execution_count": 6,
   "id": "3b19b7f1-f318-404a-b63c-0f64c4870248",
   "metadata": {},
   "outputs": [],
   "source": [
    "#### Getting access token from above curl command \n",
    "\n",
    "access_token = \"AQX59EFy3Qw0_sRbFJP78vPHHf7VjhGthKTHLq6oRBpGjI3gB34qReTovWhyfrGbuMQMa6woVy5bO_InzfYcs6wkaxlfmeg5GEww_QEWM279lFOcu1toelitCTdvRWOIwL9ZoEIa4USVKGBKtFvP0OkINUj8fwlazLuN9-oOke3Wb2er7MgmgSvb41RRdM11vIEKTJXUE19TK_C-4erlPacrLD1n7KVEgKGlbMdrHKZUrPDhNJdBdMHuu8rm4NFYQtyL0KH67Uefr_XL2dRG5uGn5sSQP0IV2q2LghqMgBITDSEE3cuA-R0AOSZf-oThVoMp8z_5_VqmyrsyL5Gus5-Zty7mnA\""
   ]
  },
  {
   "cell_type": "code",
   "execution_count": 7,
   "id": "4ff0e088-d8d4-4f44-ab43-eb561096ceb1",
   "metadata": {},
   "outputs": [
    {
     "name": "stdout",
     "output_type": "stream",
     "text": [
      "{\n",
      " \"localizedLastName\": \"Kumar\",\n",
      " \"profilePicture\": {\n",
      "  \"displayImage\": \"urn:li:digitalmediaAsset:C5103AQFWjzaDBpFFvw\"\n",
      " },\n",
      " \"firstName\": {\n",
      "  \"localized\": {\n",
      "   \"en_US\": \"Dhruv\"\n",
      "  },\n",
      "  \"preferredLocale\": {\n",
      "   \"country\": \"US\",\n",
      "   \"language\": \"en\"\n",
      "  }\n",
      " },\n",
      " \"lastName\": {\n",
      "  \"localized\": {\n",
      "   \"en_US\": \"Kumar\"\n",
      "  },\n",
      "  \"preferredLocale\": {\n",
      "   \"country\": \"US\",\n",
      "   \"language\": \"en\"\n",
      "  }\n",
      " },\n",
      " \"id\": \"HY8JkGCAVC\",\n",
      " \"localizedFirstName\": \"Dhruv\"\n",
      "}\n"
     ]
    }
   ],
   "source": [
    "# Executing the code to call profile name and image_url\n",
    "import json\n",
    "\n",
    "params = {'oauth2_access_token': access_token}\n",
    "response = requests.get('https://api.linkedin.com/v2/me', params = params)\n",
    "\n",
    "print(json.dumps(response.json(), indent=1))\n"
   ]
  },
  {
   "cell_type": "code",
   "execution_count": null,
   "id": "126b4e01-733f-404c-a05c-70bf94b99595",
   "metadata": {},
   "outputs": [],
   "source": []
  }
 ],
 "metadata": {
  "kernelspec": {
   "display_name": "Python 3",
   "language": "python",
   "name": "python3"
  },
  "language_info": {
   "codemirror_mode": {
    "name": "ipython",
    "version": 3
   },
   "file_extension": ".py",
   "mimetype": "text/x-python",
   "name": "python",
   "nbconvert_exporter": "python",
   "pygments_lexer": "ipython3",
   "version": "3.8.8"
  }
 },
 "nbformat": 4,
 "nbformat_minor": 5
}
